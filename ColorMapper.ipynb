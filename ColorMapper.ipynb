{
 "cells": [
  {
   "cell_type": "markdown",
   "metadata": {},
   "source": [
    "# Line Color mapper\n",
    "\n",
    "Bokeh has `mapper` that allow to change color with data if they support it.\n",
    "\n",
    "It is possible to do with it Heatmap, where you put `fill_color={\"field\": \"YourValueToMap\", \"mapper\":ColorMapperObject}`.\n",
    "\n",
    "In the case of a line, it is not possible, as the attribute must be a `Color` (not a `ColorSpec`)\n",
    "\n",
    "However, `bokeh.plotting.segment` accept this class.\n",
    "\n",
    "The trick will allow to change color ! \n",
    "\n",
    "![Sinusoidal](color_mapper_bokeh_plot.png)"
   ]
  },
  {
   "cell_type": "code",
   "execution_count": 1,
   "metadata": {},
   "outputs": [],
   "source": [
    "from bokeh.io import show\n",
    "from bokeh.palettes import Viridis256\n",
    "from bokeh.plotting import figure\n",
    "from bokeh.models   import ColumnDataSource"
   ]
  },
  {
   "cell_type": "code",
   "execution_count": 2,
   "metadata": {},
   "outputs": [],
   "source": [
    "import numpy as np\n",
    "import pandas as pd"
   ]
  },
  {
   "cell_type": "code",
   "execution_count": 3,
   "metadata": {},
   "outputs": [],
   "source": [
    "x  = np.linspace(0, 2 * np.pi * 4, 100)\n",
    "y1 = np.cos(x)\n",
    "y2 = np.sin(x)"
   ]
  },
  {
   "cell_type": "code",
   "execution_count": 4,
   "metadata": {},
   "outputs": [],
   "source": [
    "def LinearColorMapper(serie, palette, range=None):\n",
    "    r1, r2 = (0, 0)\n",
    "    if range is not None:\n",
    "        r1, r2 = range\n",
    "    else:\n",
    "        possible = np.where(~np.isnan(serie))[0]\n",
    "        r1, r2 = min(serie), max(serie)\n",
    "    \n",
    "    l = len(palette) -1\n",
    "    i_serie = np.array(serie)\n",
    "    i_serie[i_serie > r2] = r2\n",
    "    i_serie[i_serie < r1] = r1\n",
    "    \n",
    "    i_serie = ((serie - r1)/(r2-r1)*l).astype(int)\n",
    "    return list(map(lambda x: palette[x], i_serie))\n",
    "        "
   ]
  },
  {
   "cell_type": "code",
   "execution_count": 5,
   "metadata": {},
   "outputs": [],
   "source": [
    "source = ColumnDataSource(data={\"x0\": x[:-1], \n",
    "                                \"x1\": x[1:],\n",
    "                                \"f0\": y1[:-1],\n",
    "                                \"f1\": y1[1:],\n",
    "                                \"af0\": y2[:-1],\n",
    "                                \"af1\": y2[1:],\n",
    "                                \"col\": LinearColorMapper(y2[1:], Viridis256)                               \n",
    "                               })"
   ]
  },
  {
   "cell_type": "code",
   "execution_count": 6,
   "metadata": {},
   "outputs": [],
   "source": [
    "p = figure(title=\"My Linearly mapped color\",\n",
    "          width=800)\n",
    "p.segment(x0=\"x0\", x1=\"x1\", y0=\"f0\",y1=\"f1\", \n",
    "          source=source, \n",
    "          line_color={\"field\":\"col\"},\n",
    "          line_width=3)\n",
    "\n",
    "p.segment(x0=\"x0\", x1=\"x1\", y0=\"af0\",y1=\"af1\", \n",
    "          source=source, \n",
    "          line_color={\"field\":\"col\"},\n",
    "         )\n",
    "\n",
    "show(p)"
   ]
  }
 ],
 "metadata": {
  "kernelspec": {
   "display_name": "Python 3",
   "language": "python",
   "name": "python3"
  },
  "language_info": {
   "codemirror_mode": {
    "name": "ipython",
    "version": 3
   },
   "file_extension": ".py",
   "mimetype": "text/x-python",
   "name": "python",
   "nbconvert_exporter": "python",
   "pygments_lexer": "ipython3",
   "version": "3.6.3"
  }
 },
 "nbformat": 4,
 "nbformat_minor": 2
}
