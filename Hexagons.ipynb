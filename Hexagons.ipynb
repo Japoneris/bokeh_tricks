{
 "cells": [
  {
   "cell_type": "markdown",
   "metadata": {},
   "source": [
    "# Make 01 matrix as hexagons heatmap\n",
    "\n",
    "![Hexagons](./hexagons.png)"
   ]
  },
  {
   "cell_type": "code",
   "execution_count": 1,
   "metadata": {},
   "outputs": [],
   "source": [
    "from bokeh.io import show\n",
    "from bokeh.plotting import figure, ColumnDataSource\n",
    "from bokeh.palettes import Inferno256\n",
    "from bokeh.models import HoverTool, LinearColorMapper\n",
    "\n",
    "TOOLS = \"hover,save,pan,box_zoom,reset,wheel_zoom\"\n",
    "\n",
    "import numpy as np"
   ]
  },
  {
   "cell_type": "markdown",
   "metadata": {},
   "source": [
    "### Base"
   ]
  },
  {
   "cell_type": "code",
   "execution_count": 2,
   "metadata": {},
   "outputs": [],
   "source": [
    "q1 = np.pi*2/6\n",
    "\n",
    "angles = np.arange(6)*q1\n",
    "x = np.cos(angles)\n",
    "y = np.sin(angles)\n",
    "\n",
    "vx = 2\n",
    "vy = 2 * np.sqrt(3/4)"
   ]
  },
  {
   "cell_type": "markdown",
   "metadata": {},
   "source": [
    "### Random sample"
   ]
  },
  {
   "cell_type": "code",
   "execution_count": 3,
   "metadata": {},
   "outputs": [],
   "source": [
    "mat = np.random.rand(5, 10)"
   ]
  },
  {
   "cell_type": "code",
   "execution_count": 4,
   "metadata": {},
   "outputs": [],
   "source": [
    "r, c = mat.shape"
   ]
  },
  {
   "cell_type": "markdown",
   "metadata": {},
   "source": [
    "### Size mapper"
   ]
  },
  {
   "cell_type": "code",
   "execution_count": 5,
   "metadata": {},
   "outputs": [],
   "source": [
    "MAX = 500\n",
    "w, h = None, None\n",
    "\n",
    "if r > c :\n",
    "    h = MAX\n",
    "    w = int(MAX * c/r)\n",
    "else:\n",
    "    w = MAX\n",
    "    h = int(MAX * r/c)"
   ]
  },
  {
   "cell_type": "markdown",
   "metadata": {},
   "source": [
    "### Color mapper"
   ]
  },
  {
   "cell_type": "code",
   "execution_count": 6,
   "metadata": {},
   "outputs": [],
   "source": [
    "def colormapper_01(v, palette=Inferno256):\n",
    "    return Inferno256[int(v*256)]"
   ]
  },
  {
   "cell_type": "markdown",
   "metadata": {},
   "source": [
    "## Figure maker"
   ]
  },
  {
   "cell_type": "code",
   "execution_count": 7,
   "metadata": {},
   "outputs": [],
   "source": [
    "f = figure(width=w, height=h, title=\"Without hover\", x_range=(-vx, vx*(c+0.5)), y_range=(-vy, vy*r))\n",
    "\n",
    "f.background_fill_color = \"black\"\n",
    "f.xgrid.grid_line_color = None\n",
    "f.ygrid.grid_line_color = None\n",
    "\n",
    "f.xaxis.minor_tick_line_color = None\n",
    "f.yaxis.minor_tick_line_color = None\n",
    "f.xaxis.major_tick_line_color = None\n",
    "f.yaxis.major_tick_line_color = None\n",
    "\n",
    "f.xaxis.major_label_text_font_size = '0pt'\n",
    "f.yaxis.major_label_text_font_size = '0pt'\n",
    "\n",
    "# row\n",
    "for i in range(r):\n",
    "    # cols\n",
    "    for j in range(c):\n",
    "        di = i\n",
    "        \n",
    "        f.patch(y + (j + (i%2)/2)*vx, x + i*vy, fill_color=colormapper_01(mat[i,j]), line_color=None)\n",
    "\n",
    "\n",
    "show(f)"
   ]
  },
  {
   "cell_type": "markdown",
   "metadata": {},
   "source": [
    "---"
   ]
  },
  {
   "cell_type": "markdown",
   "metadata": {},
   "source": [
    "### With labels + `ColumnDataSource`"
   ]
  },
  {
   "cell_type": "code",
   "execution_count": 8,
   "metadata": {},
   "outputs": [],
   "source": [
    "mat_label = np.arange(r*c).reshape((r, c)).astype(str) "
   ]
  },
  {
   "cell_type": "markdown",
   "metadata": {},
   "source": [
    "##### Prepare data"
   ]
  },
  {
   "cell_type": "code",
   "execution_count": 9,
   "metadata": {},
   "outputs": [],
   "source": [
    "X = []\n",
    "Y = []\n",
    "V = []\n",
    "L = []\n",
    "\n",
    "for i in range(r):\n",
    "    # cols\n",
    "    for j in range(c):\n",
    "        di = i\n",
    "        X.append(y + (j + (i%2)/2)*vx)\n",
    "        Y.append(x + i*vy)\n",
    "        V.append(mat[i,j])\n",
    "        L.append(mat_label[i,j])"
   ]
  },
  {
   "cell_type": "markdown",
   "metadata": {},
   "source": [
    "##### Prepare figure"
   ]
  },
  {
   "cell_type": "code",
   "execution_count": 10,
   "metadata": {},
   "outputs": [],
   "source": [
    "f = figure(width=w, height=h, title=\"With hover\", x_range=(-vx, vx*(c+0.5)), y_range=(-vy, vy*r), tools=TOOLS)\n",
    "\n",
    "f.background_fill_color = \"black\"\n",
    "f.xgrid.grid_line_color = None\n",
    "f.ygrid.grid_line_color = None\n",
    "\n",
    "f.xaxis.minor_tick_line_color = None\n",
    "f.yaxis.minor_tick_line_color = None\n",
    "f.xaxis.major_tick_line_color = None\n",
    "f.yaxis.major_tick_line_color = None\n",
    "\n",
    "f.xaxis.major_label_text_font_size = '0pt'\n",
    "f.yaxis.major_label_text_font_size = '0pt'\n"
   ]
  },
  {
   "cell_type": "markdown",
   "metadata": {},
   "source": [
    "##### Prepare source"
   ]
  },
  {
   "cell_type": "code",
   "execution_count": 11,
   "metadata": {},
   "outputs": [],
   "source": [
    "source = ColumnDataSource(data={\"X\":X, \"Y\":Y, \"V\":V, \"L\":L})\n",
    "color_mapper = LinearColorMapper(palette=\"Inferno256\", low=0, high=1)"
   ]
  },
  {
   "cell_type": "markdown",
   "metadata": {},
   "source": [
    "##### Fill figure"
   ]
  },
  {
   "cell_type": "code",
   "execution_count": 12,
   "metadata": {},
   "outputs": [],
   "source": [
    "f.patches(\"X\", \"Y\",  \n",
    "          source=source,\n",
    "         fill_color={'field': 'V', 'transform': color_mapper},\n",
    "         line_color=None)\n",
    "\n",
    "f.select_one(HoverTool).tooltips = [\n",
    "     ('Label', '@L'),\n",
    "     ('Value', '@V'),\n",
    "    ]\n"
   ]
  },
  {
   "cell_type": "markdown",
   "metadata": {},
   "source": [
    "##### Display"
   ]
  },
  {
   "cell_type": "code",
   "execution_count": 13,
   "metadata": {},
   "outputs": [],
   "source": [
    "show(f)"
   ]
  }
 ],
 "metadata": {
  "kernelspec": {
   "display_name": "Python 3",
   "language": "python",
   "name": "python3"
  },
  "language_info": {
   "codemirror_mode": {
    "name": "ipython",
    "version": 3
   },
   "file_extension": ".py",
   "mimetype": "text/x-python",
   "name": "python",
   "nbconvert_exporter": "python",
   "pygments_lexer": "ipython3",
   "version": "3.6.3"
  }
 },
 "nbformat": 4,
 "nbformat_minor": 2
}
